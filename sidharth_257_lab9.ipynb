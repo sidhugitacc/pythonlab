{
 "cells": [
  {
   "cell_type": "code",
   "execution_count": 1,
   "metadata": {},
   "outputs": [
    {
     "name": "stdout",
     "output_type": "stream",
     "text": [
      "Array Indexing:\n",
      "Element at index 2: 2\n",
      "Elements from index 1 to 3 (exclusive): [1 2 3]\n",
      "\n",
      "Fancy Indexing:\n",
      "Elements at specified indices: [0 4 5]\n",
      "Elements based on a boolean condition: [0 2 5]\n"
     ]
    }
   ],
   "source": [
    "# Write a program to distinguish between Array Indexing and Fancy Indexing.\n",
    "import numpy as np\n",
    "\n",
    "# NumPy array\n",
    "arr = np.array([0, 1, 2, 3, 4, 5])\n",
    "\n",
    "# Array Indexing\n",
    "index_1 = arr[2]  # Access the element at index 2\n",
    "index_2 = arr[1:4]  # Access elements from index 1(inclusive) to 3 (exclusive)\n",
    "print(\"Array Indexing:\")\n",
    "print(\"Element at index 2:\", index_1)\n",
    "print(\"Elements from index 1 to 3 (exclusive):\", index_2)\n",
    "\n",
    "# Fancy Indexing\n",
    "index_array = np.array([0, 4, 5])  # Array of integers\n",
    "boolean_array = np.array([True, False, True, False, False, True])  # Boolean array\n",
    "\n",
    "fancy_1 = arr[index_array]  # Access elements at specified indices using an integer array\n",
    "fancy_2 = arr[boolean_array]  # Access elements based on a boolean condition\n",
    "print(\"\\nFancy Indexing:\")\n",
    "print(\"Elements at specified indices:\", fancy_1)\n",
    "print(\"Elements based on a boolean condition:\", fancy_2)\n",
    "\n"
   ]
  },
  {
   "cell_type": "code",
   "execution_count": 3,
   "metadata": {},
   "outputs": [
    {
     "name": "stdout",
     "output_type": "stream",
     "text": [
      "Original 2D Array:\n",
      "[[1 2 3]\n",
      " [4 5 6]\n",
      " [7 8 9]]\n",
      "\n",
      "Sliced Subarrays:\n",
      "Subarray 1:\n",
      "[[2 3]\n",
      " [5 6]]\n",
      "Subarray 2:\n",
      "[2 5 8]\n",
      "Subarray 3:\n",
      "[4 5 6]\n"
     ]
    }
   ],
   "source": [
    "# Execute the 2D array Slicing.\n",
    "\n",
    "import numpy as np\n",
    "\n",
    "# Create a sample 2D NumPy array\n",
    "arr_2d = np.array([[1, 2, 3],\n",
    "                   [4, 5, 6],\n",
    "                   [7, 8, 9]])\n",
    "\n",
    "# Slicing the 2D array\n",
    "subarray_1 = arr_2d[0:2, 1:3]  # Rows 0 to 1 (exclusive) and Columns 1 to 2 (exclusive)\n",
    "subarray_2 = arr_2d[:, 1]  # All rows and Column 1\n",
    "subarray_3 = arr_2d[1, :]  # Row 1 and All columns\n",
    "\n",
    "print(\"Original 2D Array:\")\n",
    "print(arr_2d)\n",
    "print(\"\\nSliced Subarrays:\")\n",
    "print(\"Subarray 1:\")\n",
    "print(subarray_1)\n",
    "print(\"Subarray 2:\")\n",
    "print(subarray_2)\n",
    "print(\"Subarray 3:\")\n",
    "print(subarray_3)\n"
   ]
  },
  {
   "cell_type": "code",
   "execution_count": 4,
   "metadata": {},
   "outputs": [
    {
     "name": "stdout",
     "output_type": "stream",
     "text": [
      "Shape of the 5-dimensional array: (1, 1, 1, 1, 3)\n",
      "5-dimensional array:\n",
      "[[[[[1 2 3]]]]]\n"
     ]
    }
   ],
   "source": [
    "# Create the 5-Dimensional arrays using ‘ndmin’.\n",
    "import numpy as np\n",
    "\n",
    "# Create a 5-dimensional array with ndmin\n",
    "arr_5d = np.array([1, 2, 3], ndmin=5)\n",
    "\n",
    "# Check the shape of the 5-dimensional array\n",
    "print(\"Shape of the 5-dimensional array:\", arr_5d.shape)\n",
    "\n",
    "# Print the 5-dimensional array\n",
    "print(\"5-dimensional array:\")\n",
    "print(arr_5d)\n"
   ]
  },
  {
   "cell_type": "code",
   "execution_count": 5,
   "metadata": {},
   "outputs": [
    {
     "name": "stdout",
     "output_type": "stream",
     "text": [
      "Original 1-D array:\n",
      "[1 2 3 4 5 6]\n",
      "\n",
      "Reshaped 2-D array:\n",
      "[[1 2 3]\n",
      " [4 5 6]]\n"
     ]
    }
   ],
   "source": [
    "# Reshape the array from 1-D to 2-D array.\n",
    "import numpy as np\n",
    "\n",
    "# Create a 1-D array\n",
    "arr_1d = np.array([1, 2, 3, 4, 5, 6])\n",
    "\n",
    "# Reshape the 1-D array to a 2-D array\n",
    "arr_2d = arr_1d.reshape((2, 3))  # Specify the desired shape (2 rows, 3 columns)\n",
    "\n",
    "# Alternatively, you can use np.reshape() function:\n",
    "# arr_2d = np.reshape(arr_1d, (2, 3))\n",
    "\n",
    "# Print the original and reshaped arrays\n",
    "print(\"Original 1-D array:\")\n",
    "print(arr_1d)\n",
    "\n",
    "print(\"\\nReshaped 2-D array:\")\n",
    "print(arr_2d)\n"
   ]
  },
  {
   "cell_type": "code",
   "execution_count": 6,
   "metadata": {},
   "outputs": [
    {
     "name": "stdout",
     "output_type": "stream",
     "text": [
      "np.stack() along axis 0:\n",
      "[[1 2 3]\n",
      " [4 5 6]]\n",
      "\n",
      "np.stack() along axis 1:\n",
      "[[1 4]\n",
      " [2 5]\n",
      " [3 6]]\n",
      "\n",
      "np.hstack():\n",
      "[1 2 3 4 5 6]\n",
      "\n",
      "np.vstack():\n",
      "[[1 2 3]\n",
      " [4 5 6]]\n",
      "\n",
      "np.dstack():\n",
      "[[[ 7 10]]\n",
      "\n",
      " [[ 8 11]]\n",
      "\n",
      " [[ 9 12]]]\n"
     ]
    }
   ],
   "source": [
    "# Perform the Stack functions in Numpy arrays – Stack(), hstack(), vstack(), and dstack().\n",
    "import numpy as np\n",
    "\n",
    "# Create sample arrays\n",
    "arr1 = np.array([1, 2, 3])\n",
    "arr2 = np.array([4, 5, 6])\n",
    "\n",
    "# np.stack(): Stacking along a new axis\n",
    "stacked_axis0 = np.stack((arr1, arr2), axis=0)\n",
    "stacked_axis1 = np.stack((arr1, arr2), axis=1)\n",
    "\n",
    "print(\"np.stack() along axis 0:\")\n",
    "print(stacked_axis0)\n",
    "print(\"\\nnp.stack() along axis 1:\")\n",
    "print(stacked_axis1)\n",
    "\n",
    "# np.hstack(): Stacking horizontally\n",
    "hstacked = np.hstack((arr1, arr2))\n",
    "print(\"\\nnp.hstack():\")\n",
    "print(hstacked)\n",
    "\n",
    "# np.vstack(): Stacking vertically\n",
    "vstacked = np.vstack((arr1, arr2))\n",
    "print(\"\\nnp.vstack():\")\n",
    "print(vstacked)\n",
    "\n",
    "# Create 2D arrays\n",
    "arr3 = np.array([[7], [8], [9]])\n",
    "arr4 = np.array([[10], [11], [12]])\n",
    "\n",
    "# np.dstack(): Stacking along the third axis (depth-wise)\n",
    "dstacked = np.dstack((arr3, arr4))\n",
    "print(\"\\nnp.dstack():\")\n",
    "print(dstacked)\n"
   ]
  },
  {
   "cell_type": "code",
   "execution_count": 8,
   "metadata": {},
   "outputs": [
    {
     "name": "stdout",
     "output_type": "stream",
     "text": [
      "Original array:\n",
      "[3 1 2 5 4]\n",
      "Sorted array:\n",
      "[1 2 3 4 5]\n"
     ]
    }
   ],
   "source": [
    "# Perform the searchsort method in Numpy array.\n",
    "import numpy as np\n",
    "\n",
    "# Create a NumPy array\n",
    "arr = np.array([3, 1, 2, 5, 4])\n",
    "\n",
    "# Sort the array\n",
    "sorted_arr = np.sort(arr)\n",
    "\n",
    "print(\"Original array:\")\n",
    "print(arr)\n",
    "print(\"Sorted array:\")\n",
    "print(sorted_arr)"
   ]
  },
  {
   "cell_type": "code",
   "execution_count": 7,
   "metadata": {},
   "outputs": [
    {
     "name": "stdout",
     "output_type": "stream",
     "text": [
      "[(1, 'Tesla', 'Model S', 2021, 50000) (2, 'Toyota', 'Prius', 2022, 25000)\n",
      " (3, 'BMW', 'i3', 2020, 30000) (4, 'Nissan', 'Leaf', 2023, 35000)\n",
      " (5, 'Ford', 'Mustang', 2022, 45000)]\n"
     ]
    }
   ],
   "source": [
    "\n",
    "import numpy as np\n",
    "\n",
    "# create a sample data for autonomous vehicle management\n",
    "data = np.array([(1, 'Tesla', 'Model S', 2021, 50000),\n",
    "                 (2, 'Toyota', 'Prius', 2022, 25000),\n",
    "                 (3, 'BMW', 'i3', 2020, 30000),\n",
    "                 (4, 'Nissan', 'Leaf', 2023, 35000),\n",
    "                 (5, 'Ford', 'Mustang', 2022, 45000)],\n",
    "                dtype=[('id', 'i4'), ('make', 'U10'), ('model', 'U10'), ('year', 'i4'), ('price', 'i4')])\n",
    "\n",
    "# display the structured array\n",
    "print(data)\n",
    "\n",
    "\n",
    "\n",
    "\n",
    "\n"
   ]
  },
  {
   "cell_type": "code",
   "execution_count": 9,
   "metadata": {},
   "outputs": [
    {
     "name": "stdout",
     "output_type": "stream",
     "text": [
      "      Name  Age\n",
      "0    Alice   25\n",
      "1      Bob   30\n",
      "2  Charlie   35\n",
      "3    David   40\n",
      "      Name  Age\n",
      "0    Alice   25\n",
      "1      Bob   30\n",
      "2  Charlie   35\n",
      "3    David   40\n"
     ]
    }
   ],
   "source": [
    "# Create Data frame using List and Dictionary.\n",
    "import pandas as pd\n",
    "\n",
    "# Create a list of data\n",
    "data_list = [\n",
    "    ['Alice', 25],\n",
    "    ['Bob', 30],\n",
    "    ['Charlie', 35],\n",
    "    ['David', 40]\n",
    "]\n",
    "\n",
    "# Create a DataFrame from the list\n",
    "df_list = pd.DataFrame(data_list, columns=['Name', 'Age'])\n",
    "\n",
    "# Display the DataFrame\n",
    "print(df_list)\n",
    "\n",
    "\n",
    "# Create a dictionary of data\n",
    "data_dict = {\n",
    "    'Name': ['Alice', 'Bob', 'Charlie', 'David'],\n",
    "    'Age': [25, 30, 35, 40]\n",
    "}\n",
    "\n",
    "# Create a DataFrame from the dictionary\n",
    "df_dict = pd.DataFrame(data_dict)\n",
    "\n",
    "# Display the DataFrame\n",
    "print(df_dict)"
   ]
  },
  {
   "cell_type": "code",
   "execution_count": 4,
   "metadata": {},
   "outputs": [
    {
     "name": "stdout",
     "output_type": "stream",
     "text": [
      "   vehicle_id manufacturer       model  year     price\n",
      "0           1        Tesla     Model S  2018   50000.0\n",
      "1           2        Waymo   Waymo One  2020  100000.0\n",
      "2           3           GM   Cruise AV  2019       NaN\n",
      "3           4         Uber  Volvo XC90  2017   70000.0\n",
      "4           5         Ford       F-150  2022   60000.0\n",
      "   vehicle_id  manufacturer  model   year  price\n",
      "0       False         False  False  False  False\n",
      "1       False         False  False  False  False\n",
      "2       False         False  False  False   True\n",
      "3       False         False  False  False  False\n",
      "4       False         False  False  False  False\n",
      "   vehicle_id  manufacturer  model  year  price\n",
      "0        True          True   True  True   True\n",
      "1        True          True   True  True   True\n",
      "2        True          True   True  True  False\n",
      "3        True          True   True  True   True\n",
      "4        True          True   True  True   True\n"
     ]
    },
    {
     "name": "stderr",
     "output_type": "stream",
     "text": [
      "C:\\Users\\sidha\\AppData\\Local\\Temp\\ipykernel_12644\\2159026643.py:40: FutureWarning: DataFrame.interpolate with object dtype is deprecated and will raise in a future version. Call obj.infer_objects(copy=False) before interpolating instead.\n",
      "  df.interpolate(inplace=True)\n"
     ]
    }
   ],
   "source": [
    "# Create Data frame on your Domain area and perform the following operations to find and eliminate the\n",
    "# missing data from the dataset.\n",
    "# • isnull()\n",
    "# • notnull()\n",
    "# • dropna()\n",
    "# • fillna()\n",
    "# • replace()\n",
    "# • interpolate()\n",
    "import pandas as pd\n",
    "\n",
    "# create a dictionary of autonomous vehicle data\n",
    "autonomous_vehicle_data = {'vehicle_id': [1, 2, 3, 4, 5],\n",
    "                           'manufacturer': ['Tesla', 'Waymo', 'GM', 'Uber', 'Ford'],\n",
    "                           'model': ['Model S', 'Waymo One', 'Cruise AV', 'Volvo XC90', 'F-150'],\n",
    "                           'year': [2018, 2020, 2019, 2017, 2022],\n",
    "                           'price': [50000, 100000, None, 70000, 60000]}\n",
    "\n",
    "# create a data frame from the autonomous vehicle data dictionary\n",
    "df = pd.DataFrame(autonomous_vehicle_data)\n",
    "\n",
    "# display the data frame\n",
    "print(df)\n",
    "\n",
    "# check for missing values in the data frame\n",
    "print(df.isnull())\n",
    "\n",
    "# check for non-missing values in the data frame\n",
    "print(df.notnull())\n",
    "\n",
    "# drop rows with missing values\n",
    "df.dropna(inplace=True)\n",
    "\n",
    "# fill missing values with a specified value\n",
    "df.fillna(0, inplace=True)\n",
    "\n",
    "# replace specified values in the data frame\n",
    "df.replace('Waymo', 'Alphabet', inplace=True)\n",
    "\n",
    "# interpolate missing values in the data frame\n",
    "df.interpolate(inplace=True)\n",
    "\n",
    "\n"
   ]
  },
  {
   "cell_type": "code",
   "execution_count": 5,
   "metadata": {},
   "outputs": [
    {
     "name": "stdout",
     "output_type": "stream",
     "text": [
      "                Year  Fuel Efficiency (km/L)\n",
      "Make   Model                                \n",
      "Tesla  Model 3  2021                     NaN\n",
      "Toyota Prius    2022                    25.0\n",
      "BMW    i3       2020                    20.0\n",
      "Nissan Leaf     2023                     NaN\n",
      "Ford   Mustang  2022                    15.0\n"
     ]
    }
   ],
   "source": [
    "import pandas as pd\n",
    "\n",
    "# create a sample data frame\n",
    "data = {\n",
    "    'Make': ['Tesla', 'Toyota', 'BMW', 'Nissan', 'Ford'],\n",
    "    'Model': ['Model 3', 'Prius', 'i3', 'Leaf', 'Mustang'],\n",
    "    'Year': [2021, 2022, 2020, 2023, 2022],\n",
    "    'Fuel Efficiency (km/L)': [None, 25, 20, None, 15]\n",
    "}\n",
    "\n",
    "df = pd.DataFrame(data)\n",
    "\n",
    "# set the index to be hierarchical\n",
    "df.set_index(['Make', 'Model'], inplace=True)\n",
    "\n",
    "# display the data frame with hierarchical indexing\n",
    "print(df)"
   ]
  }
 ],
 "metadata": {
  "kernelspec": {
   "display_name": "Python 3",
   "language": "python",
   "name": "python3"
  },
  "language_info": {
   "codemirror_mode": {
    "name": "ipython",
    "version": 3
   },
   "file_extension": ".py",
   "mimetype": "text/x-python",
   "name": "python",
   "nbconvert_exporter": "python",
   "pygments_lexer": "ipython3",
   "version": "3.11.5"
  },
  "orig_nbformat": 4
 },
 "nbformat": 4,
 "nbformat_minor": 2
}
