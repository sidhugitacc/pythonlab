{
 "cells": [
  {
   "cell_type": "code",
   "execution_count": 1,
   "metadata": {},
   "outputs": [
    {
     "name": "stdout",
     "output_type": "stream",
     "text": [
      "237-785-3452\n",
      "(237)-785-3452\n"
     ]
    }
   ],
   "source": [
    "import re\n",
    "\n",
    "def is_phone_number(text):\n",
    "    phone_number_regex = r\"(\\(\\d{3}\\))-(\\d{3})-(\\d{4})|(\\d{3})-(\\d{3})-(\\d{4})\"\n",
    "    try:\n",
    "        phone_number = re.search(phone_number_regex, text)\n",
    "        return phone_number.group()\n",
    "    except:\n",
    "        return None\n",
    "\n",
    "text = \"My phone number is 237-785-3452\"\n",
    "text_brackets = \"My phone number is (237)-785-3452\"\n",
    "phone_number = is_phone_number(text)\n",
    "phone_number_with_brackets = is_phone_number(text_brackets)\n",
    "print(phone_number)\n",
    "print(phone_number_with_brackets)"
   ]
  },
  {
   "cell_type": "code",
   "execution_count": 2,
   "metadata": {},
   "outputs": [
    {
     "name": "stdout",
     "output_type": "stream",
     "text": [
      "True\n",
      "False\n"
     ]
    }
   ],
   "source": [
    "def strong_password(password):\n",
    "    special_characters = re.compile(r\"[!@#$%^&*()<>?]\")     #.compile() to define chracters to be checked in in string\n",
    "    upper_case_characters = re.compile(r\"[A-Z]\")\n",
    "    lower_case_characters = re.compile(r\"[a-z]\")\n",
    "    digit_characters = re.compile(r\"[0-9]\")\n",
    "\n",
    "    if len(password) < 8:\n",
    "        return False\n",
    "\n",
    "    if not special_characters.search(password):             #.seacrh() to check for the compiled characters in the password\n",
    "        return False\n",
    "\n",
    "    if not upper_case_characters.search(password):\n",
    "        return False\n",
    "\n",
    "    if not lower_case_characters.search(password):\n",
    "        return False\n",
    "\n",
    "    if not digit_characters.search(password):\n",
    "        return False\n",
    "\n",
    "    return True\n",
    "\n",
    "right_password = \"Christ@100\"\n",
    "wrong_password = \"Christ120\"\n",
    "print(strong_password(right_password))\n",
    "print(strong_password(wrong_password))"
   ]
  }
 ],
 "metadata": {
  "kernelspec": {
   "display_name": "Python 3",
   "language": "python",
   "name": "python3"
  },
  "language_info": {
   "codemirror_mode": {
    "name": "ipython",
    "version": 3
   },
   "file_extension": ".py",
   "mimetype": "text/x-python",
   "name": "python",
   "nbconvert_exporter": "python",
   "pygments_lexer": "ipython3",
   "version": "3.11.4"
  },
  "orig_nbformat": 4
 },
 "nbformat": 4,
 "nbformat_minor": 2
}
